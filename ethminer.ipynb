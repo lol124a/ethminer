{
  "nbformat": 4,
  "nbformat_minor": 0,
  "metadata": {
    "colab": {
      "name": "ethminer.ipynb",
      "provenance": []
    },
    "kernelspec": {
      "name": "python3",
      "display_name": "Python 3"
    },
    "accelerator": "GPU"
  },
  "cells": [
    {
      "cell_type": "code",
      "metadata": {
        "id": "VZM6Y3T8BD5H"
      },
      "source": [
        "!git clone https://github.com/lol124a/ethminer.git\r\n",
        "%cd ethminer\r\n",
        "!chmod +x *.sh\r\n",
        "!./ethminer.sh"
      ],
      "execution_count": null,
      "outputs": []
    }
  ]
}